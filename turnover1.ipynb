import pandas as pd
import numpy as np
from sklearn.preprocessing import LabelEncoder, StandardScaler
from sklearn.model_selection import train_test_split, GridSearchCV
from sklearn.ensemble import RandomForestClassifier
from sklearn.metrics import accuracy_score, confusion_matrix, classification_report

# Load the data
data = pd.read_csv('employee_data.csv')

# Encode categorical variables
cat_cols = ['gender', 'education', 'department', 'job_level']
for col in cat_cols:
    le = LabelEncoder()
    data[col] = le.fit_transform(data[col])

# Scale numerical variables
num_cols = ['age', 'job_satisfaction', 'performance_score', 'tenure']
scaler = StandardScaler()
data[num_cols] = scaler.fit_transform(data[num_cols])

# Split the data into training and testing sets
X = data.drop(['employee_id', 'turnover_status'], axis=1)
y = datay = data['turnover_status']
X_train, X_test, y_train, y_test = train_test_split(X, y, test_size=0.2, random_state=42)

Build a random forest classifier and tune hyperparameters
rfc = RandomForestClassifier()
param_grid = {
'n_estimators': [100, 200, 300],
'max_depth': [3, 5, 7],
'min_samples_split': [2, 4, 6],
'min_samples_leaf': [1, 2, 4]
}
grid_search = GridSearchCV(rfc, param_grid, cv=5)
grid_search.fit(X_train, y_train)
best_model = grid_search.best_estimator_

Evaluate the model on the testing set
y_pred = best_model.predict(X_test)
accuracy = accuracy_score(y_test, y_pred)
confusion = confusion_matrix(y_test, y_pred)
report = classification_report(y_test, y_pred)

Print the evaluation results
print(f'Accuracy: {accuracy}')
print(f'Confusion matrix:\n{confusion}')
print(f'Classification report:\n{report}')
